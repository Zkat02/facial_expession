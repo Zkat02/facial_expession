{
  "nbformat": 4,
  "nbformat_minor": 0,
  "metadata": {
    "colab": {
      "provenance": [],
      "include_colab_link": true
    },
    "kernelspec": {
      "name": "python3",
      "display_name": "Python 3"
    },
    "language_info": {
      "name": "python"
    },
    "accelerator": "GPU",
    "gpuClass": "standard"
  },
  "cells": [
    {
      "cell_type": "markdown",
      "metadata": {
        "id": "view-in-github",
        "colab_type": "text"
      },
      "source": [
        "<a href=\"https://colab.research.google.com/github/Zkat02/facial_expession/blob/main/model_learning.ipynb\" target=\"_parent\"><img src=\"https://colab.research.google.com/assets/colab-badge.svg\" alt=\"Open In Colab\"/></a>"
      ]
    },
    {
      "cell_type": "markdown",
      "source": [
        "### imports\n"
      ],
      "metadata": {
        "id": "dioUZeW3zcav"
      }
    },
    {
      "cell_type": "code",
      "source": [
        "import os\n",
        "import numpy as np\n",
        "import pandas as pd\n",
        "from matplotlib import pyplot as plt\n",
        "import tensorflow as tf  \n",
        "from tensorflow import keras\n",
        "from keras.layers import Dense, Flatten,Dropout,BatchNormalization,GlobalAveragePooling2D,Input\n",
        "from keras.preprocessing.image import ImageDataGenerator\n",
        "from keras.applications.efficientnet import preprocess_input, EfficientNetB0\n",
        "from keras.preprocessing import image\n",
        "from keras.models import Sequential\n",
        "from sklearn.model_selection import train_test_split\n",
        "from sklearn.metrics import f1_score,precision_score,classification_report\n",
        "import random"
      ],
      "metadata": {
        "id": "r4ntQwENXcuY"
      },
      "execution_count": 1,
      "outputs": []
    },
    {
      "cell_type": "markdown",
      "source": [
        "### download data from disk & parcing"
      ],
      "metadata": {
        "id": "JLZF6hSXzklv"
      }
    },
    {
      "cell_type": "code",
      "source": [
        "from google.colab import drive\n",
        "drive.mount('/content/drive')"
      ],
      "metadata": {
        "colab": {
          "base_uri": "https://localhost:8080/"
        },
        "id": "VPuxTvrwwlkv",
        "outputId": "a682cd0e-f166-4a62-ff1d-97948ff67f0c"
      },
      "execution_count": 2,
      "outputs": [
        {
          "output_type": "stream",
          "name": "stdout",
          "text": [
            "Mounted at /content/drive\n"
          ]
        }
      ]
    },
    {
      "cell_type": "code",
      "execution_count": 3,
      "metadata": {
        "id": "gr_SR9t9OylI",
        "colab": {
          "base_uri": "https://localhost:8080/"
        },
        "outputId": "5007efd5-6639-4c47-f7c0-ca756b2c54ee"
      },
      "outputs": [
        {
          "output_type": "stream",
          "name": "stdout",
          "text": [
            "/content/drive/MyDrive/test_tasks/facial_emotions\n",
            "/content/drive/MyDrive/test_tasks/facial_emotions/challenges-in-representation-learning-facial-expression-recognition-challenge\n"
          ]
        }
      ],
      "source": [
        "# %cd drive/MyDrive/test_tasks/facial_expression\n",
        "# %cd challenges-in-representation-learning-facial-expression-recognition-challenge\n",
        "%cd drive/MyDrive/test_tasks/facial_emotions\n",
        "%cd  challenges-in-representation-learning-facial-expression-recognition-challenge"
      ]
    },
    {
      "cell_type": "code",
      "source": [
        "train_dir = \"fer2013/fer2013.csv\""
      ],
      "metadata": {
        "id": "sIF8RSWgpw-w"
      },
      "execution_count": 4,
      "outputs": []
    },
    {
      "cell_type": "code",
      "source": [
        "df = pd.read_csv(train_dir)"
      ],
      "metadata": {
        "id": "WAJwVAeVUfFN"
      },
      "execution_count": 5,
      "outputs": []
    },
    {
      "cell_type": "code",
      "source": [
        "labels_expressions = ['anger','disgust','fear','happiness','sadness','surprise','neutral'] "
      ],
      "metadata": {
        "id": "CBL7ajh8V1xK"
      },
      "execution_count": 6,
      "outputs": []
    },
    {
      "cell_type": "code",
      "source": [
        "img_array = df.pixels.apply(lambda x: np.array(x.split(' '),dtype=float).reshape(48,48,1))\n",
        "img_array = np.stack(img_array,axis=0)"
      ],
      "metadata": {
        "id": "TVor_1FBYAkE"
      },
      "execution_count": 7,
      "outputs": []
    },
    {
      "cell_type": "code",
      "source": [
        "emotion_values = df.emotion.values"
      ],
      "metadata": {
        "id": "mRYj6uiFSQfK"
      },
      "execution_count": 8,
      "outputs": []
    },
    {
      "cell_type": "code",
      "source": [
        "x_train, x_test, y_train, y_test = train_test_split(img_array, emotion_values, test_size=0.2)\n",
        "x_train.shape, y_train.shape, x_test.shape, y_test.shape"
      ],
      "metadata": {
        "colab": {
          "base_uri": "https://localhost:8080/"
        },
        "id": "bEgn-190TbMr",
        "outputId": "c5e2146d-b13f-4501-fd48-ca2d6b5a253f"
      },
      "execution_count": 9,
      "outputs": [
        {
          "output_type": "execute_result",
          "data": {
            "text/plain": [
              "((28709, 48, 48, 1), (28709,), (7178, 48, 48, 1), (7178,))"
            ]
          },
          "metadata": {},
          "execution_count": 9
        }
      ]
    },
    {
      "cell_type": "code",
      "source": [
        "x_train = x_train/255\n",
        "x_test = x_test/255"
      ],
      "metadata": {
        "id": "zsdsFobsX5L2"
      },
      "execution_count": 10,
      "outputs": []
    },
    {
      "cell_type": "markdown",
      "source": [
        "### Models"
      ],
      "metadata": {
        "id": "_48ujgP2zP2f"
      }
    },
    {
      "cell_type": "code",
      "source": [
        "# ## just CNN model 1\n",
        "# from keras.layers import Conv2D, MaxPooling2D\n",
        "# model = tf.keras.models.Sequential()   \n",
        "\n",
        "# model.add(Conv2D(32, kernel_size=(3, 3), padding='same', activation='relu', input_shape =(48,48,1)))\n",
        "# model.add(Conv2D(64, kernel_size=(3, 3), activation='relu', padding='same'))\n",
        "# model.add(MaxPooling2D(2, 2))\n",
        "\n",
        "# model.add(Flatten())\n",
        "# model.add(Dense(1024, activation='relu'))\n",
        "# model.add(Dense(7, activation='softmax'))\n",
        "# model.summary()"
      ],
      "metadata": {
        "id": "f_lXMWTaldl-"
      },
      "execution_count": null,
      "outputs": []
    },
    {
      "cell_type": "code",
      "source": [
        "# # just CNN model 2\n",
        "# from keras.layers import Conv2D, MaxPooling2D\n",
        "# model = tf.keras.models.Sequential()   \n",
        "\n",
        "# model.add(Conv2D(32, kernel_size=(3, 3), padding='same', activation='relu', input_shape =(48,48,1)))\n",
        "# model.add(Conv2D(64, kernel_size=(3, 3), activation='relu', padding='same'))\n",
        "# model.add(MaxPooling2D(2, 2))\n",
        "\n",
        "# model.add(Flatten())\n",
        "# model.add(Dense(1024, activation='relu'))\n",
        "# model.add(Dropout(0.5)) \n",
        "# model.add(Dense(7, activation='softmax'))\n",
        "# model.summary()"
      ],
      "metadata": {
        "id": "x9eF7UMVkeIP"
      },
      "execution_count": null,
      "outputs": []
    },
    {
      "cell_type": "code",
      "source": [
        "## just CNN model 3\n",
        "# from keras.layers import Conv2D, MaxPooling2D\n",
        "# model = tf.keras.models.Sequential()   \n",
        "\n",
        "# model.add(Conv2D(32, kernel_size=(3, 3), padding='same', activation='relu', input_shape =(48,48,1)))\n",
        "# model.add(Conv2D(64, kernel_size=(3, 3), activation='relu', padding='same'))\n",
        "# model.add(BatchNormalization())\n",
        "# model.add(MaxPooling2D(2, 2))\n",
        "\n",
        "# model.add(Flatten())\n",
        "# model.add(Dense(1024, activation='relu'))\n",
        "# model.add(Dropout(0.5)) \n",
        "# model.add(Dense(7, activation='softmax'))\n",
        "# model.summary()"
      ],
      "metadata": {
        "id": "bwBu0E92s3yp"
      },
      "execution_count": null,
      "outputs": []
    },
    {
      "cell_type": "code",
      "source": [
        "## just CNN model 4\n",
        "# from keras.layers import Conv2D, MaxPooling2D\n",
        "# model = tf.keras.models.Sequential()   \n",
        "\n",
        "# model.add(Conv2D(32, kernel_size=(3, 3), padding='same', activation='relu', input_shape =(48,48,1)))\n",
        "# model.add(Conv2D(64, kernel_size=(3, 3), activation='relu', padding='same'))\n",
        "# model.add(BatchNormalization())\n",
        "# model.add(MaxPooling2D(2, 2))\n",
        "\n",
        "# model.add(Conv2D(128, kernel_size=(3, 3), activation='relu', padding='same', kernel_regularizer=keras.regularizers.l2(0.01)))\n",
        "# model.add(MaxPooling2D(pool_size=(2, 2)))\n",
        "# model.add(Dropout(0.25))\n",
        "\n",
        "# model.add(Flatten())\n",
        "# model.add(Dense(100, activation='relu'))\n",
        "# model.add(Dense(7, activation='softmax'))\n",
        "# model.summary()"
      ],
      "metadata": {
        "id": "GK_TcDrUsPQ4"
      },
      "execution_count": null,
      "outputs": []
    },
    {
      "cell_type": "code",
      "source": [
        "# # other CNN model 5\n",
        "# from keras.layers import Conv2D, MaxPooling2D\n",
        "# model = tf.keras.models.Sequential()   \n",
        "\n",
        "# model.add(Conv2D(32, kernel_size=(3, 3), padding='same', activation='relu', input_shape =(48,48,1)))\n",
        "# model.add(Conv2D(64, kernel_size=(3, 3), activation='relu', padding='same'))\n",
        "# model.add(BatchNormalization())\n",
        "# model.add(MaxPooling2D(2, 2))\n",
        "# model.add(Dropout(0.25))\n",
        "\n",
        "# model.add(Conv2D(128, kernel_size=(3, 3), activation='relu', padding='same', kernel_regularizer=keras.regularizers.l2(0.01)))\n",
        "# model.add(Conv2D(256, kernel_size=(3, 3), activation='relu', kernel_regularizer=keras.regularizers.l2(0.01)))\n",
        "# model.add(BatchNormalization())\n",
        "# model.add(MaxPooling2D(pool_size=(2, 2)))\n",
        "# model.add(Dropout(0.25))\n",
        "\n",
        "# model.add(Flatten())\n",
        "# model.add(Dense(1024, activation='relu'))\n",
        "# model.add(Dropout(0.5))\n",
        "\n",
        "# model.add(Dense(7, activation='softmax'))\n",
        "# model.summary()"
      ],
      "metadata": {
        "id": "C7pfogCEwC4g"
      },
      "execution_count": null,
      "outputs": []
    },
    {
      "cell_type": "code",
      "source": [
        "# CNN model 6\n",
        "# model = tf.keras.models.Sequential([tf.keras.layers.Conv2D(32,(3,3),activation='relu',input_shape = (48,48,1)),\n",
        "#                                         tf.keras.layers.MaxPool2D(2,2),\n",
        "#                                         \n",
        "#                                         tf.keras.layers.Conv2D(64,(3,3),activation='relu',input_shape = (48,48,1)),\n",
        "#                                         tf.keras.layers.MaxPool2D(2,2),\n",
        "#                                         \n",
        "#                                         tf.keras.layers.Conv2D(128,(3,3),activation='relu'),\n",
        "#                                         tf.keras.layers.MaxPool2D(2,2),\n",
        "#                                         \n",
        "#                                         tf.keras.layers.Conv2D(256,(3,3),activation='relu'),\n",
        "#                                         tf.keras.layers.MaxPool2D(2,2),\n",
        "#                                         \n",
        "#                                         tf.keras.layers.Flatten(),\n",
        "#                                         tf.keras.layers.Dense(1000,activation='relu'),\n",
        "#                                         tf.keras.layers.Dense(100,activation='relu'),\n",
        "#                                         # tf.keras.layers.Dropout(0.5),\n",
        "#                                         # BatchNormalization(),\n",
        "#                                         tf.keras.layers.Dense(7,activation = 'softmax')                          \n",
        "#                                         ])"
      ],
      "metadata": {
        "id": "MlH9QDTaXuKp"
      },
      "execution_count": 11,
      "outputs": []
    },
    {
      "cell_type": "code",
      "source": [
        "# # ResNet50\n",
        "# from keras.applications import ResNet50\n",
        "# resnet = ResNet50(\n",
        "#     include_top=False,\n",
        "#     weights=\"imagenet\",\n",
        "#     input_shape=(48,48,3),\n",
        "#     )\n",
        "# resnet.trainable = False\n",
        "\n",
        "# input_tensor = keras.Input(shape=(48,48,1))\n",
        "# x = keras.layers.Conv2D(3,(3,3),padding='same')(input_tensor) \n",
        "# x = resnet(x) \n",
        "# x = Flatten()(x)\n",
        "# out = Dense(7,activation='softmax')(x)\n",
        "\n",
        "# model = keras.Model(inputs=input_tensor,outputs=out)\n",
        "# model.summary()"
      ],
      "metadata": {
        "id": "BOPOQ1Ynkgok"
      },
      "execution_count": null,
      "outputs": []
    },
    {
      "cell_type": "code",
      "source": [
        "# # EfficientNetB0 -- не обучается\n",
        "# from keras.applications.efficientnet import EfficientNetB0\n",
        "# eff = EfficientNetB0(\n",
        "#     include_top=False,\n",
        "#     weights=\"imagenet\",\n",
        "#     input_shape=(48,48,3),\n",
        "#     )\n",
        "# eff.trainable = False\n",
        "\n",
        "# input_tensor = keras.Input(shape=(48,48,1))\n",
        "# x = keras.layers.Conv2D(3,(3,3),padding='same')(input_tensor) \n",
        "# x = eff(x) \n",
        "# x = Flatten()(x)\n",
        "# out = Dense(7,activation='softmax')(x)\n",
        "\n",
        "# model = keras.Model(inputs=input_tensor,outputs=out)\n",
        "# model.summary()"
      ],
      "metadata": {
        "id": "WT2DAdBSfFez"
      },
      "execution_count": null,
      "outputs": []
    },
    {
      "cell_type": "code",
      "source": [
        "## ResNet50 ! надо менять входные картинки\n",
        "# from keras.applications import ResNet50\n",
        "# resnet = ResNet50(\n",
        "#     include_top=True,\n",
        "#     weights=\"imagenet\",\n",
        "#     input_shape=(48,48,3), # \n",
        "#     )\n",
        "# model = Sequential([resnet])\n",
        "# #model.add(Conv2D(10, (3,3) , activation = 'relu'))\n",
        "# #model.add(GlobalAveragePooling2D())\n",
        "# #model.add(Dropout(0.5))\n",
        "# model.add(Dense(100,activation='relu'))\n",
        "# model.add(Dense(7,activation='softmax'))"
      ],
      "metadata": {
        "id": "6tePE4xoRwJ_"
      },
      "execution_count": null,
      "outputs": []
    },
    {
      "cell_type": "code",
      "source": [
        "## EfficientNetB0 ! надо менять входные картинки\n",
        "# base_model = EfficientNetB0(include_top=False,\n",
        "#                   input_shape = (48,48,3),\n",
        "#                   weights = 'imagenet')\n",
        "# base_model.trainable = False\n",
        "# model = Sequential([base_model])\n",
        "# #model.add(Conv2D(10, (3,3) , activation = 'relu'))\n",
        "# model.add(GlobalAveragePooling2D())\n",
        "# #model.add(Dropout(0.5))\n",
        "# #model.add(Dense(100,activation='relu'))\n",
        "# model.add(Dense(7,activation='softmax'))"
      ],
      "metadata": {
        "id": "TZJ5j4G1RsI_"
      },
      "execution_count": null,
      "outputs": []
    },
    {
      "cell_type": "code",
      "source": [
        "## ResNet model\n",
        "\n",
        "# inputs = keras.Input(shape=(48, 48, 1), name=\"img\")\n",
        "# x = keras.layers.Conv2D(32, 3, activation=\"relu\")(inputs)\n",
        "# x = keras.layers.Conv2D(64, 3, activation=\"relu\")(x)\n",
        "# block_1_output = keras.layers.MaxPooling2D(3)(x)\n",
        "\n",
        "# x = keras.layers.Conv2D(64, 3, activation=\"relu\", padding=\"same\")(block_1_output)\n",
        "# x = keras.layers.Conv2D(64, 3, activation=\"relu\", padding=\"same\")(x)\n",
        "# block_2_output = keras.layers.add([x, block_1_output])\n",
        "\n",
        "# x = keras.layers.Conv2D(64, 3, activation=\"relu\", padding=\"same\")(block_2_output)\n",
        "# x = keras.layers.Conv2D(64, 3, activation=\"relu\", padding=\"same\")(x)\n",
        "# block_3_output = keras.layers.add([x, block_2_output])\n",
        "\n",
        "# x = keras.layers.Conv2D(64, 3, activation=\"relu\")(block_3_output)\n",
        "# x = keras.layers.GlobalAveragePooling2D()(x)\n",
        "# x = keras.layers.Dense(256, activation=\"relu\")(x)\n",
        "# x = keras.layers.Dropout(0.5)(x)\n",
        "# outputs = keras.layers.Dense(7, activation='softmax')(x)\n",
        "\n",
        "# model = keras.Model(inputs, outputs, name=\"resnet_model\")"
      ],
      "metadata": {
        "id": "jQjQQDYMrKAQ"
      },
      "execution_count": null,
      "outputs": []
    },
    {
      "cell_type": "code",
      "source": [
        "model.summary()"
      ],
      "metadata": {
        "id": "3hHA2mOX2Z5c"
      },
      "execution_count": null,
      "outputs": []
    },
    {
      "cell_type": "markdown",
      "source": [
        "compilation"
      ],
      "metadata": {
        "id": "7tVDtH5Xz95-"
      }
    },
    {
      "cell_type": "code",
      "source": [
        "model.compile(\n",
        "    # optimizer= tf.keras.optimizers.SGD(learning_rate=0.001, nesterov=True), \n",
        "    # optimizer= tf.keras.optimizers.RMSprop(learning_rate=0.0001),\n",
        "    optimizer= tf.keras.optimizers.Adam(learning_rate=0.0001), \n",
        "    loss='categorical_crossentropy',\n",
        "    #  loss='sparse_categorical_crossentropy',\n",
        "    metrics=['accuracy'])"
      ],
      "metadata": {
        "id": "Y6RPLK3XZrp-"
      },
      "execution_count": 56,
      "outputs": []
    },
    {
      "cell_type": "code",
      "source": [
        "y_train_cat = keras.utils.to_categorical(y_train,7)\n",
        "y_test_cat = keras.utils.to_categorical(y_test,7)"
      ],
      "metadata": {
        "id": "FrvKvRdbaziv"
      },
      "execution_count": 16,
      "outputs": []
    },
    {
      "cell_type": "code",
      "source": [
        "x_train.shape,y_train_cat.shape,x_test.shape,y_test_cat.shape"
      ],
      "metadata": {
        "id": "F87mo0MexKGy"
      },
      "execution_count": null,
      "outputs": []
    },
    {
      "cell_type": "markdown",
      "source": [
        "### learning"
      ],
      "metadata": {
        "id": "Bbw4Fw6OyE9b"
      }
    },
    {
      "cell_type": "code",
      "source": [
        "h = model.fit(x_train, y_train_cat, epochs=20, validation_data=(x_test, y_test_cat))\n",
        "model.evaluate(x_test, y_test_cat)"
      ],
      "metadata": {
        "id": "P8yt67ig1rc-"
      },
      "execution_count": null,
      "outputs": []
    },
    {
      "cell_type": "markdown",
      "source": [
        "### output result "
      ],
      "metadata": {
        "id": "G2NnXnAHyJGD"
      }
    },
    {
      "cell_type": "code",
      "source": [
        "plt.plot(h.history['loss'])\n",
        "plt.plot(h.history['val_loss'])"
      ],
      "metadata": {
        "id": "7mqEkriSIiPx"
      },
      "execution_count": null,
      "outputs": []
    },
    {
      "cell_type": "code",
      "source": [
        "plt.plot(h.history['accuracy'])\n",
        "plt.plot(h.history['val_accuracy'])"
      ],
      "metadata": {
        "id": "0j1423SofiM3"
      },
      "execution_count": null,
      "outputs": []
    },
    {
      "cell_type": "code",
      "source": [
        "max_val_acc = 100*np.max(h.history['val_accuracy'])\n",
        "print(\"Best Validation Accuracy: {}%\".format(max_val_acc))"
      ],
      "metadata": {
        "id": "aMbM8SLw0Q0I"
      },
      "execution_count": null,
      "outputs": []
    },
    {
      "cell_type": "code",
      "source": [
        "predicted = model.predict(x_test)\n",
        "predicted = np.argmax(predicted,axis=1)"
      ],
      "metadata": {
        "id": "op2XAvXx1HHh"
      },
      "execution_count": null,
      "outputs": []
    },
    {
      "cell_type": "code",
      "source": [
        "print(\"predicted: \",*predicted[:30])\n",
        "print(\"true     : \",*y_test[:30])"
      ],
      "metadata": {
        "id": "pVsGD-xE09rh"
      },
      "execution_count": null,
      "outputs": []
    },
    {
      "cell_type": "code",
      "source": [
        "print(classification_report(y_test, predicted, target_names=labels_expressions))"
      ],
      "metadata": {
        "id": "Fw2lXMrbo6Ir"
      },
      "execution_count": null,
      "outputs": []
    },
    {
      "cell_type": "code",
      "source": [
        "# p = precision_score(y_test, predicted, average=None)\n",
        "# sklearn.metrics.f1_score(x_test, y_test_cat, labels=None, pos_label=1, average='binary', sample_weight=None, zero_division='warn')"
      ],
      "metadata": {
        "id": "0e1t_amJ1ACg"
      },
      "execution_count": null,
      "outputs": []
    }
  ]
}